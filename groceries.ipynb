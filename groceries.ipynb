{
 "cells": [
  {
   "cell_type": "markdown",
   "metadata": {},
   "source": [
    "# Posterior Distribution"
   ]
  },
  {
   "cell_type": "code",
   "execution_count": 17,
   "metadata": {},
   "outputs": [],
   "source": [
    "import pandas as pd\n",
    "import numpy as np\n",
    "import matplotlib.pyplot as plt\n",
    "import scipy.stats as sts\n",
    "import pystan\n",
    "from scipy import stats"
   ]
  },
  {
   "cell_type": "code",
   "execution_count": 18,
   "metadata": {},
   "outputs": [
    {
     "name": "stderr",
     "output_type": "stream",
     "text": [
      "/anaconda3/lib/python3.6/site-packages/pandas/core/indexing.py:189: SettingWithCopyWarning: \n",
      "A value is trying to be set on a copy of a slice from a DataFrame\n",
      "\n",
      "See the caveats in the documentation: http://pandas.pydata.org/pandas-docs/stable/indexing.html#indexing-view-versus-copy\n",
      "  self._setitem_with_indexer(indexer, value)\n",
      "/anaconda3/lib/python3.6/site-packages/ipykernel_launcher.py:4: SettingWithCopyWarning: \n",
      "A value is trying to be set on a copy of a slice from a DataFrame\n",
      "\n",
      "See the caveats in the documentation: http://pandas.pydata.org/pandas-docs/stable/indexing.html#indexing-view-versus-copy\n",
      "  after removing the cwd from sys.path.\n"
     ]
    },
    {
     "data": {
      "text/html": [
       "<div>\n",
       "<style scoped>\n",
       "    .dataframe tbody tr th:only-of-type {\n",
       "        vertical-align: middle;\n",
       "    }\n",
       "\n",
       "    .dataframe tbody tr th {\n",
       "        vertical-align: top;\n",
       "    }\n",
       "\n",
       "    .dataframe thead th {\n",
       "        text-align: right;\n",
       "    }\n",
       "</style>\n",
       "<table border=\"1\" class=\"dataframe\">\n",
       "  <thead>\n",
       "    <tr style=\"text-align: right;\">\n",
       "      <th></th>\n",
       "      <th>Unnamed: 4</th>\n",
       "      <th>Unnamed: 5</th>\n",
       "      <th>Apples</th>\n",
       "      <th>Unnamed: 7</th>\n",
       "      <th>Unnamed: 8</th>\n",
       "      <th>Unnamed: 9</th>\n",
       "      <th>Unnamed: 10</th>\n",
       "      <th>Unnamed: 11</th>\n",
       "      <th>Bananas</th>\n",
       "      <th>Unnamed: 13</th>\n",
       "      <th>...</th>\n",
       "      <th>Unnamed: 56</th>\n",
       "      <th>Unnamed: 57</th>\n",
       "      <th>Unnamed: 58</th>\n",
       "      <th>Unnamed: 59</th>\n",
       "      <th>Chicken breasts</th>\n",
       "      <th>Unnamed: 61</th>\n",
       "      <th>Unnamed: 62</th>\n",
       "      <th>Unnamed: 63</th>\n",
       "      <th>Unnamed: 64</th>\n",
       "      <th>Unnamed: 65</th>\n",
       "    </tr>\n",
       "  </thead>\n",
       "  <tbody>\n",
       "    <tr>\n",
       "      <th>0</th>\n",
       "      <td>ALDI</td>\n",
       "      <td>Lichtenberg</td>\n",
       "      <td>0.88</td>\n",
       "      <td>2.2</td>\n",
       "      <td>1</td>\n",
       "      <td>1.88</td>\n",
       "      <td>0.6</td>\n",
       "      <td>1.89</td>\n",
       "      <td>1</td>\n",
       "      <td>1.69</td>\n",
       "      <td>...</td>\n",
       "      <td>6</td>\n",
       "      <td>1.59</td>\n",
       "      <td>10</td>\n",
       "      <td>1.59</td>\n",
       "      <td>0.6</td>\n",
       "      <td>3.99</td>\n",
       "      <td>1</td>\n",
       "      <td>5.99</td>\n",
       "      <td>NaN</td>\n",
       "      <td>NaN</td>\n",
       "    </tr>\n",
       "    <tr>\n",
       "      <th>1</th>\n",
       "      <td>ALDI</td>\n",
       "      <td>Neukölln</td>\n",
       "      <td>1</td>\n",
       "      <td>2.99</td>\n",
       "      <td>1</td>\n",
       "      <td>1.79</td>\n",
       "      <td>0.8</td>\n",
       "      <td>1.89</td>\n",
       "      <td>1</td>\n",
       "      <td>1.15</td>\n",
       "      <td>...</td>\n",
       "      <td>10</td>\n",
       "      <td>1.19</td>\n",
       "      <td>6</td>\n",
       "      <td>1.59</td>\n",
       "      <td>0.6</td>\n",
       "      <td>3.99</td>\n",
       "      <td>1</td>\n",
       "      <td>5.99</td>\n",
       "      <td>0.35</td>\n",
       "      <td>3.99</td>\n",
       "    </tr>\n",
       "    <tr>\n",
       "      <th>2</th>\n",
       "      <td>ALDI</td>\n",
       "      <td>Neukölln</td>\n",
       "      <td>2</td>\n",
       "      <td>2.49</td>\n",
       "      <td>1</td>\n",
       "      <td>1.79</td>\n",
       "      <td>1</td>\n",
       "      <td>1.15</td>\n",
       "      <td>1</td>\n",
       "      <td>1.15</td>\n",
       "      <td>...</td>\n",
       "      <td>10</td>\n",
       "      <td>1.19</td>\n",
       "      <td>6</td>\n",
       "      <td>1.59</td>\n",
       "      <td>0.6</td>\n",
       "      <td>3.99</td>\n",
       "      <td>1</td>\n",
       "      <td>5.99</td>\n",
       "      <td>NaN</td>\n",
       "      <td>NaN</td>\n",
       "    </tr>\n",
       "    <tr>\n",
       "      <th>3</th>\n",
       "      <td>ALDI</td>\n",
       "      <td>Kreuzberg</td>\n",
       "      <td>1</td>\n",
       "      <td>2.99</td>\n",
       "      <td>1</td>\n",
       "      <td>1.79</td>\n",
       "      <td>1</td>\n",
       "      <td>2.29</td>\n",
       "      <td>1</td>\n",
       "      <td>1.15</td>\n",
       "      <td>...</td>\n",
       "      <td>10</td>\n",
       "      <td>1.19</td>\n",
       "      <td>6</td>\n",
       "      <td>1.59</td>\n",
       "      <td>0.6</td>\n",
       "      <td>3.99</td>\n",
       "      <td>0.4</td>\n",
       "      <td>2.99</td>\n",
       "      <td>0.4</td>\n",
       "      <td>2.79</td>\n",
       "    </tr>\n",
       "    <tr>\n",
       "      <th>4</th>\n",
       "      <td>ALDI</td>\n",
       "      <td>Kreuzberg</td>\n",
       "      <td>0.6</td>\n",
       "      <td>1.95</td>\n",
       "      <td>2</td>\n",
       "      <td>2.29</td>\n",
       "      <td>1</td>\n",
       "      <td>1.39</td>\n",
       "      <td>1</td>\n",
       "      <td>1.69</td>\n",
       "      <td>...</td>\n",
       "      <td>10</td>\n",
       "      <td>1.19</td>\n",
       "      <td>6</td>\n",
       "      <td>1.59</td>\n",
       "      <td>0.35</td>\n",
       "      <td>2.99</td>\n",
       "      <td>0.6</td>\n",
       "      <td>3.99</td>\n",
       "      <td>1</td>\n",
       "      <td>5.99</td>\n",
       "    </tr>\n",
       "  </tbody>\n",
       "</table>\n",
       "<p>5 rows × 62 columns</p>\n",
       "</div>"
      ],
      "text/plain": [
       "  Unnamed: 4   Unnamed: 5 Apples Unnamed: 7 Unnamed: 8 Unnamed: 9 Unnamed: 10  \\\n",
       "0       ALDI  Lichtenberg   0.88        2.2          1       1.88         0.6   \n",
       "1       ALDI     Neukölln      1       2.99          1       1.79         0.8   \n",
       "2       ALDI     Neukölln      2       2.49          1       1.79           1   \n",
       "3       ALDI    Kreuzberg      1       2.99          1       1.79           1   \n",
       "4       ALDI    Kreuzberg    0.6       1.95          2       2.29           1   \n",
       "\n",
       "  Unnamed: 11 Bananas Unnamed: 13     ...     Unnamed: 56 Unnamed: 57  \\\n",
       "0        1.89       1        1.69     ...               6        1.59   \n",
       "1        1.89       1        1.15     ...              10        1.19   \n",
       "2        1.15       1        1.15     ...              10        1.19   \n",
       "3        2.29       1        1.15     ...              10        1.19   \n",
       "4        1.39       1        1.69     ...              10        1.19   \n",
       "\n",
       "  Unnamed: 58 Unnamed: 59 Chicken breasts Unnamed: 61 Unnamed: 62 Unnamed: 63  \\\n",
       "0          10        1.59             0.6        3.99           1        5.99   \n",
       "1           6        1.59             0.6        3.99           1        5.99   \n",
       "2           6        1.59             0.6        3.99           1        5.99   \n",
       "3           6        1.59             0.6        3.99         0.4        2.99   \n",
       "4           6        1.59            0.35        2.99         0.6        3.99   \n",
       "\n",
       "  Unnamed: 64 Unnamed: 65  \n",
       "0         NaN         NaN  \n",
       "1        0.35        3.99  \n",
       "2         NaN         NaN  \n",
       "3         0.4        2.79  \n",
       "4           1        5.99  \n",
       "\n",
       "[5 rows x 62 columns]"
      ]
     },
     "execution_count": 18,
     "metadata": {},
     "output_type": "execute_result"
    }
   ],
   "source": [
    "# general data processing\n",
    "original_data = pd.read_csv('groceries.csv').iloc[:, 4:]\n",
    "data = original_data.iloc[1:]\n",
    "data.iloc[:, 2:] = data.iloc[:, 2:].astype(float)\n",
    "data = data.reset_index(drop=True)\n",
    "data.head()\n"
   ]
  },
  {
   "cell_type": "code",
   "execution_count": 19,
   "metadata": {},
   "outputs": [
    {
     "name": "stderr",
     "output_type": "stream",
     "text": [
      "/anaconda3/lib/python3.6/site-packages/pandas/core/reshape/merge.py:543: UserWarning: merging between different levels can give an unintended result (1 levels on the left, 2 on the right)\n",
      "  warnings.warn(msg, UserWarning)\n"
     ]
    },
    {
     "name": "stdout",
     "output_type": "stream",
     "text": [
      "(79, 62)\n",
      "(79, 32)\n",
      "30 79\n",
      "30 79\n",
      "30 79\n"
     ]
    }
   ],
   "source": [
    "# get store and location info\n",
    "name = data.iloc[:, :2]\n",
    "name.columns = ['store', 'address']\n",
    "\n",
    "# get product info and process column names\n",
    "products = []\n",
    "for i in list(original_data.columns):\n",
    "    if 'Unnamed' not in i:\n",
    "        products.append(i)\n",
    "brand = range(3)\n",
    "df = pd.DataFrame(np.arange(2520).reshape((84,30)), \n",
    "            index = range(84),\n",
    "            columns=['' for i in range(30)])\n",
    "df.columns = pd.MultiIndex.from_product([products, brand])\n",
    "\n",
    "# merging info about store and location with price\n",
    "new = name.join(df)\n",
    "\n",
    "# dropping Seoul and San Francisco stores\n",
    "indexNames = new[new.store == 'Lotte Mart'].index\n",
    "indexNames2 = new[new.store == 'Safeway'].index\n",
    "new.drop(indexNames, inplace=True)\n",
    "new.drop(indexNames2, inplace=True)\n",
    "data.drop(indexNames, inplace=True)\n",
    "data.drop(indexNames2, inplace=True)\n",
    "\n",
    "# normalizing the price\n",
    "for i in range(len(new)):\n",
    "    for j in range(2, 32):\n",
    "        if pd.isnull(data.iloc[i, 2*j-1]) == False:\n",
    "            new.iloc[i, j] = data.iloc[i, 2*j-1] / data.iloc[i, 2*j-2]\n",
    "        else:\n",
    "            new.iloc[i, j] = np.nan\n",
    "# enumerate the categories for stores and locations\n",
    "new.store, mapping_index_1 = pd.Series(new.store).factorize()\n",
    "new.address, mapping_index_2 = pd.Series(new.address).factorize()\n",
    "print(data.shape)\n",
    "print(new.shape)\n",
    "\n",
    "# separate the data into 3 sets, one for the price, one for store multipliers, one for location multipliers\n",
    "data_ = [[new.iloc[j, i] for j in range(len(new))] for i in range(2, 32)]\n",
    "store_ = [[new.iloc[j, 0] for j in range(len(new))] for i in range(2, 32)]\n",
    "loc_ = [[new.iloc[j, 1] for j in range(len(new))] for i in range(2, 32)]\n",
    "# convert to numpy array\n",
    "data_= np.array(data_)\n",
    "store_= np.array(store_)\n",
    "loc_= np.array(loc_)\n",
    "\n",
    "# fill in empty cells (with no data) with 0\n",
    "for i in range(len(data_)):\n",
    "    for j in range(len(data_[i])):\n",
    "        if pd.isna(data_[i, j]):\n",
    "            data_[i, j] = 0\n",
    "\n",
    "\n",
    "print(len(data_), len(data_[0]))\n",
    "print(len(store_), len(store_[0]))\n",
    "print(len(loc_), len(loc_[0]))"
   ]
  },
  {
   "cell_type": "code",
   "execution_count": 20,
   "metadata": {},
   "outputs": [
    {
     "name": "stdout",
     "output_type": "stream",
     "text": [
      "[[ 2.5         2.99        1.245      ...  5.5         2.9\n",
      "   2.55      ]\n",
      " [ 1.88        1.79        1.79       ...  3.3         2.55\n",
      "   2.9       ]\n",
      " [ 3.15        2.3625      1.15       ...  6.4         2.32\n",
      "   2.32      ]\n",
      " ...\n",
      " [ 6.65        6.65        6.65       ...  6.23       14.75\n",
      "   9.15555556]\n",
      " [ 5.99        5.99        5.99       ...  9.24        7.15\n",
      "  11.33333333]\n",
      " [ 0.         11.4         0.         ...  6.03        9.81\n",
      "  16.        ]]\n"
     ]
    }
   ],
   "source": [
    "print(data_)"
   ]
  },
  {
   "cell_type": "code",
   "execution_count": 21,
   "metadata": {},
   "outputs": [],
   "source": [
    "# stan data\n",
    "stan_data = {\n",
    "    # info about data\n",
    "    'data_set': data_,\n",
    "    'store_set': store_,\n",
    "    'loc_set': loc_,\n",
    "    'num_col': 30,\n",
    "    'num_row': 79,\n",
    "    'num_pro': 10,\n",
    "    'num_store': 7,\n",
    "    'num_loc': 21,\n",
    "    # prior parameters\n",
    "    'pro_1': 0,\n",
    "    'pro_2': 1000,\n",
    "    'loc_1': 1,\n",
    "    'loc_2': 0.1,\n",
    "    'store_1': 1,\n",
    "    'store_2': 0.1,\n",
    "    'sig1': 0.3,\n",
    "    'sig2': 0.2,}"
   ]
  },
  {
   "cell_type": "code",
   "execution_count": 22,
   "metadata": {},
   "outputs": [],
   "source": [
    "stan_code = '''\n",
    "\n",
    "data {\n",
    "    int<lower=0> num_col; // info about data\n",
    "    int<lower=0> num_row;\n",
    "    int<lower=0> num_pro;\n",
    "    int<lower=0> num_store;\n",
    "    int<lower=0> num_loc;\n",
    "    real<lower=0> pro_1; // prior parameters\n",
    "    real<lower=0> pro_2;\n",
    "    real<lower=0> loc_1;\n",
    "    real<lower=0> loc_2;\n",
    "    real<lower=0> store_1;\n",
    "    real<lower=0> store_2;\n",
    "    real<lower=0> sig1;\n",
    "    real<lower=0> sig2;\n",
    "    real<lower=0> data_set[num_col, num_row]; // data\n",
    "    int<lower=0> store_set[num_col, num_row];\n",
    "    int<lower=0> loc_set[num_col, num_row];\n",
    "}\n",
    "\n",
    "parameters {\n",
    "    vector<lower=0>[num_pro] product; // declare prior for base price\n",
    "    vector<lower=0>[num_pro] sigma2; // declare prior for variance of final price\n",
    "    vector<lower=0>[num_store] store; // declare prior for store multipliers\n",
    "    vector<lower=0>[num_loc] location; // declare prior for location multipliers\n",
    "}\n",
    "\n",
    "model {\n",
    "    product ~ uniform(pro_1, pro_2); // prior for base price\n",
    "    sigma2 ~ normal(sig1, sig2); // prior for variance of final price\n",
    "    store ~ cauchy(store_1, store_2); // prior for store multipliers\n",
    "    location ~ cauchy(loc_1, loc_2); // prior for location multipliers\n",
    "    for (i in 1:num_pro) {\n",
    "        for (j in 1:num_row) {\n",
    "            // match the data point with corresponding product, location and store\n",
    "            if (data_set[i*3-2, j] != 0)\n",
    "            data_set[i*3-2, j] ~ normal(product[i]*store[store_set[i*3-2, j]+1]*location[loc_set[i*3-2, j]+1], sigma2[i])  \n",
    "            ;\n",
    "            if (data_set[i*3-1, j] != 0) \n",
    "            data_set[i*3-1, j] ~ normal(product[i]*store[store_set[i*3-1, j]+1]*location[loc_set[i*3-1, j]+1], sigma2[i])\n",
    "            ;\n",
    "            if (data_set[i*3-2, j] != 0) \n",
    "            data_set[i*3, j] ~ normal(product[i]*store[store_set[i*3, j]+1]*location[loc_set[i*3, j]+1], sigma2[i])\n",
    "            ;\n",
    "        }\n",
    "    }\n",
    "}\n",
    "'''\n",
    "\n"
   ]
  },
  {
   "cell_type": "code",
   "execution_count": 23,
   "metadata": {},
   "outputs": [
    {
     "name": "stderr",
     "output_type": "stream",
     "text": [
      "INFO:pystan:COMPILING THE C++ CODE FOR MODEL anon_model_ad4696b60a4e98fe27cb2e628b0207af NOW.\n"
     ]
    }
   ],
   "source": [
    "stan_model = pystan.StanModel(model_code=stan_code)"
   ]
  },
  {
   "cell_type": "code",
   "execution_count": 24,
   "metadata": {},
   "outputs": [],
   "source": [
    "results = stan_model.sampling(data=stan_data)"
   ]
  },
  {
   "cell_type": "code",
   "execution_count": 25,
   "metadata": {},
   "outputs": [
    {
     "name": "stdout",
     "output_type": "stream",
     "text": [
      "Inference for Stan model: anon_model_ad4696b60a4e98fe27cb2e628b0207af.\n",
      "4 chains, each with iter=2000; warmup=1000; thin=1; \n",
      "post-warmup draws per chain=1000, total post-warmup draws=4000.\n",
      "\n",
      "               mean se_mean     sd   2.5%    25%    50%    75%  97.5%  n_eff   Rhat\n",
      "product[1]     3.04    0.01   0.29   2.49   2.86   3.04   3.23   3.64    433   1.01\n",
      "product[2]     1.98  9.5e-3    0.3   1.42   1.77   1.97   2.17   2.57   1001    1.0\n",
      "product[3]     4.76    0.02   0.46   3.84   4.46   4.75   5.05    5.7    419   1.01\n",
      "product[4]     1.41  6.5e-3   0.13   1.15   1.33   1.41    1.5   1.68    422   1.01\n",
      "product[5]     1.25  5.9e-3   0.16   0.95   1.14   1.25   1.35   1.58    732   1.01\n",
      "product[6]     3.57    0.02   0.34   2.91   3.34   3.56   3.79   4.24    391   1.01\n",
      "product[7]     1.22  5.7e-3   0.12   0.98   1.14   1.21   1.29   1.47    470   1.01\n",
      "product[8]     8.31    0.04   0.73   6.84   7.85   8.31   8.78   9.76    377   1.01\n",
      "product[9]     0.31  1.5e-3   0.03   0.25   0.29   0.31   0.33   0.38    448   1.01\n",
      "product[10]    9.64    0.04   0.87   7.92   9.08   9.64  10.18   11.4    378   1.01\n",
      "sigma2[1]      1.76  1.0e-3   0.07   1.63   1.71   1.76    1.8    1.9   4438    1.0\n",
      "sigma2[2]      3.36  1.3e-3   0.09    3.2    3.3   3.36   3.42   3.54   4543    1.0\n",
      "sigma2[3]      2.75  1.2e-3   0.08   2.59   2.69   2.74    2.8   2.91   4659    1.0\n",
      "sigma2[4]      0.76  5.3e-4   0.03    0.7   0.74   0.76   0.78   0.83   4209    1.0\n",
      "sigma2[5]      1.55  9.7e-4   0.06   1.43   1.51   1.55   1.59   1.67   4139    1.0\n",
      "sigma2[6]      1.79 10.0e-4   0.07   1.66   1.74   1.79   1.83   1.93   4708    1.0\n",
      "sigma2[7]      0.92  5.7e-4   0.04   0.85    0.9   0.92   0.95    1.0   4926    1.0\n",
      "sigma2[8]      2.39  1.1e-3   0.08   2.24   2.34   2.39   2.44   2.55   4802    1.0\n",
      "sigma2[9]      0.25  1.8e-4   0.01   0.22   0.24   0.24   0.25   0.27   4442    1.0\n",
      "sigma2[10]     3.49  1.3e-3   0.09   3.32   3.43   3.49   3.55   3.68   4744    1.0\n",
      "store[1]        0.7  3.4e-3   0.07   0.58   0.66    0.7   0.74   0.85    406   1.02\n",
      "store[2]       1.05  4.7e-3   0.09   0.89   0.99   1.04   1.09   1.26    373   1.02\n",
      "store[3]       0.68  3.2e-3   0.06   0.56   0.63   0.67   0.71   0.83    412   1.02\n",
      "store[4]       0.95  4.0e-3   0.08    0.8   0.89   0.94   0.99   1.12    405   1.02\n",
      "store[5]       1.21  6.0e-3   0.13    1.0   1.12    1.2   1.29   1.51    494   1.01\n",
      "store[6]       0.82  4.1e-3   0.08   0.67   0.76   0.82   0.87    1.0    434   1.01\n",
      "store[7]       1.04  4.4e-3   0.09   0.88   0.98   1.03   1.09   1.26    446   1.01\n",
      "location[1]    1.07  1.5e-3   0.06   0.95   1.03   1.06   1.11   1.21   1747    1.0\n",
      "location[2]    1.04  1.4e-3   0.05   0.94    1.0   1.04   1.07   1.15   1332    1.0\n",
      "location[3]    0.95  1.3e-3   0.05   0.85   0.92   0.95   0.98   1.05   1449    1.0\n",
      "location[4]    0.94  1.4e-3   0.06   0.81    0.9   0.94   0.98   1.05   1877    1.0\n",
      "location[5]    0.91  1.4e-3   0.05    0.8   0.87   0.91   0.94   1.01   1371    1.0\n",
      "location[6]     1.0  1.4e-3   0.05   0.91   0.97    1.0   1.04    1.1   1204    1.0\n",
      "location[7]    0.93  2.0e-3   0.11   0.69   0.86   0.94   1.01   1.13   3270    1.0\n",
      "location[8]    0.98  1.3e-3   0.06   0.87   0.95   0.98   1.02   1.09   1936    1.0\n",
      "location[9]     1.1  1.7e-3   0.07   0.98   1.05    1.1   1.15   1.25   1701    1.0\n",
      "location[10]   1.04  1.3e-3   0.06   0.94    1.0   1.04   1.08   1.17   2140    1.0\n",
      "location[11]   1.03  1.5e-3   0.08   0.88   0.98   1.03   1.08   1.21   2891    1.0\n",
      "location[12]   0.46  1.6e-3    0.1   0.28   0.39   0.45   0.52   0.66   3622    1.0\n",
      "location[13]   0.91  1.8e-3   0.09   0.73   0.85   0.92   0.97   1.06   2420    1.0\n",
      "location[14]   1.12  2.3e-3   0.12   0.93   1.04    1.1   1.18   1.39   2584    1.0\n",
      "location[15]   0.96  1.2e-3   0.06   0.83   0.92   0.96   1.01   1.09   2909    1.0\n",
      "location[16]   1.03  1.4e-3   0.07    0.9   0.98   1.02   1.07   1.19   2677    1.0\n",
      "location[17]   0.87  2.3e-3   0.11   0.63    0.8   0.89   0.96   1.06   2409    1.0\n",
      "location[18]   1.09  1.9e-3   0.11   0.91   1.02   1.08   1.15   1.35   3407    1.0\n",
      "location[19]   0.99  1.3e-3   0.08   0.83   0.94   0.99   1.04   1.14   3519    1.0\n",
      "location[20]   1.04  1.5e-3   0.08   0.89   0.99   1.04   1.09   1.23   3094    1.0\n",
      "location[21]   1.02  1.3e-3   0.08   0.87   0.97   1.02   1.07    1.2   3645    1.0\n",
      "lp__          -3080    0.15   5.16  -3091  -3084  -3080  -3077  -3071   1160    1.0\n",
      "\n",
      "Samples were drawn using NUTS at Sat Nov  9 17:59:03 2019.\n",
      "For each parameter, n_eff is a crude measure of effective sample size,\n",
      "and Rhat is the potential scale reduction factor on split chains (at \n",
      "convergence, Rhat=1).\n"
     ]
    }
   ],
   "source": [
    "print(results)"
   ]
  },
  {
   "cell_type": "markdown",
   "metadata": {},
   "source": [
    "# Rental price analysis"
   ]
  },
  {
   "cell_type": "markdown",
   "metadata": {},
   "source": [
    "## Berlin"
   ]
  },
  {
   "cell_type": "code",
   "execution_count": 26,
   "metadata": {},
   "outputs": [],
   "source": [
    "samples = results.extract()\n",
    "# get samples for all locations in Berlin\n",
    "berlin = [[samples['location'][:, i]] for i in range(9)]"
   ]
  },
  {
   "cell_type": "code",
   "execution_count": 27,
   "metadata": {},
   "outputs": [
    {
     "name": "stdout",
     "output_type": "stream",
     "text": [
      "[[array([1.17907802, 1.00886535, 1.11599215, ..., 1.07807007, 1.17471493,\n",
      "       1.04610471])], [array([1.0608867 , 0.92748806, 1.14819093, ..., 1.05001524, 1.08435358,\n",
      "       1.03503861])], [array([0.95964271, 0.8941118 , 1.03413918, ..., 0.99329069, 0.90566123,\n",
      "       0.89748899])], [array([0.99496463, 0.98468468, 0.97014549, ..., 1.02079064, 0.95938967,\n",
      "       0.97551283])], [array([0.92965242, 0.78676198, 0.90414611, ..., 1.0175686 , 1.00114868,\n",
      "       0.89882128])], [array([0.97008007, 0.93635649, 0.99122849, ..., 1.0535404 , 1.03698757,\n",
      "       1.00558791])], [array([0.84633678, 1.0220493 , 0.9514756 , ..., 1.06564747, 0.93409943,\n",
      "       0.74257181])], [array([1.05628382, 0.87286716, 0.9854531 , ..., 1.10444044, 1.0031104 ,\n",
      "       0.89101179])], [array([1.09513583, 1.05585779, 1.1299781 , ..., 1.2344405 , 1.13107602,\n",
      "       1.03469883])]]\n"
     ]
    }
   ],
   "source": [
    "print(berlin)"
   ]
  },
  {
   "cell_type": "code",
   "execution_count": 28,
   "metadata": {},
   "outputs": [
    {
     "name": "stdout",
     "output_type": "stream",
     "text": [
      "Index(['ALDI', 'EDEKA', 'Lidl', 'REWE', 'Sainsbury's', 'Tesco Express',\n",
      "       'Waitrose & Partners'],\n",
      "      dtype='object')\n",
      "Index(['Lichtenberg', 'Neukölln', 'Kreuzberg', 'Alt-Treptow', 'Friedrichshain',\n",
      "       'Mitte', 'Tempelhof', 'Schöneberg', 'Prenzlauer Berg', 'Islington',\n",
      "       'Fitzrovia', 'Elephants and Castle', 'Mayfair', 'Hoxton', 'Barbican',\n",
      "       'Farringdon', 'Clapton', 'Shoreditch', 'Marylebone', 'Saint Pancras',\n",
      "       'Crouch End'],\n",
      "      dtype='object')\n"
     ]
    }
   ],
   "source": [
    "print(mapping_index_1)\n",
    "print(mapping_index_2)"
   ]
  },
  {
   "cell_type": "code",
   "execution_count": 29,
   "metadata": {},
   "outputs": [],
   "source": [
    "# average monthly rental price per square meter in ber\n",
    "rental_berlin = {'Lichtenberg': 9.64, 'Neukölln': 10.09, 'Kreuzberg': 12.99, 'Alt-Treptow': 9.61, 'Friedrichshain': 12.99,\n",
    "       'Mitte': 12.5, 'Tempelhof': 10.26, 'Schöneberg': 10.26, 'Prenzlauer Berg': 14.5}\n",
    "\n",
    "multi_berlin = {}\n",
    "for i in range(9):\n",
    "    multi_berlin[mapping_index_2[i]] = berlin[i]"
   ]
  },
  {
   "cell_type": "code",
   "execution_count": 30,
   "metadata": {},
   "outputs": [
    {
     "name": "stdout",
     "output_type": "stream",
     "text": [
      "{'Lichtenberg': [array([1.17907802, 1.00886535, 1.11599215, ..., 1.07807007, 1.17471493,\n",
      "       1.04610471])], 'Neukölln': [array([1.0608867 , 0.92748806, 1.14819093, ..., 1.05001524, 1.08435358,\n",
      "       1.03503861])], 'Kreuzberg': [array([0.95964271, 0.8941118 , 1.03413918, ..., 0.99329069, 0.90566123,\n",
      "       0.89748899])], 'Alt-Treptow': [array([0.99496463, 0.98468468, 0.97014549, ..., 1.02079064, 0.95938967,\n",
      "       0.97551283])], 'Friedrichshain': [array([0.92965242, 0.78676198, 0.90414611, ..., 1.0175686 , 1.00114868,\n",
      "       0.89882128])], 'Mitte': [array([0.97008007, 0.93635649, 0.99122849, ..., 1.0535404 , 1.03698757,\n",
      "       1.00558791])], 'Tempelhof': [array([0.84633678, 1.0220493 , 0.9514756 , ..., 1.06564747, 0.93409943,\n",
      "       0.74257181])], 'Schöneberg': [array([1.05628382, 0.87286716, 0.9854531 , ..., 1.10444044, 1.0031104 ,\n",
      "       0.89101179])], 'Prenzlauer Berg': [array([1.09513583, 1.05585779, 1.1299781 , ..., 1.2344405 , 1.13107602,\n",
      "       1.03469883])]}\n"
     ]
    }
   ],
   "source": [
    "print(multi_berlin)"
   ]
  },
  {
   "cell_type": "code",
   "execution_count": 31,
   "metadata": {},
   "outputs": [],
   "source": [
    "berlin_sorted = sorted(rental_berlin, key=rental_berlin.get)"
   ]
  },
  {
   "cell_type": "code",
   "execution_count": 32,
   "metadata": {},
   "outputs": [],
   "source": [
    "rental_berlin_2 = {}\n",
    "for i in range(0, 9):\n",
    "    rental_berlin_2[berlin_sorted[i]] = i+1\n",
    "\n",
    "rental_berlin_3 = {}\n",
    "for i in range(0, 9):\n",
    "    rental_berlin_3[berlin_sorted[i]] = rental_berlin[berlin_sorted[i]]"
   ]
  },
  {
   "cell_type": "code",
   "execution_count": 33,
   "metadata": {},
   "outputs": [
    {
     "data": {
      "image/png": "[encoded data removed]",
      "text/plain": [
       "<matplotlib.figure.Figure at 0x1a28dd5cf8>"
      ]
     },
     "metadata": {},
     "output_type": "display_data"
    }
   ],
   "source": [
    "for each in berlin_sorted:\n",
    "    plt.scatter([rental_berlin_2[each] for i in range(4000)], multi_berlin[each])"
   ]
  },
  {
   "cell_type": "code",
   "execution_count": 35,
   "metadata": {},
   "outputs": [],
   "source": [
    "# linear regression\n",
    "slope, intercept, r_val, p_val, se = stats.linregress([np.mean(multi_berlin[each]) for each in berlin_sorted],[rental_berlin_3[each] for each in berlin_sorted])"
   ]
  },
  {
   "cell_type": "code",
   "execution_count": 38,
   "metadata": {},
   "outputs": [
    {
     "name": "stdout",
     "output_type": "stream",
     "text": [
      "r_value and p_value for berlin rental price and multiplier:  0.1384763891691476 0.7223673247106321\n"
     ]
    }
   ],
   "source": [
    "print('r_value and p_value for berlin rental price and multiplier: ', r_val, p_val)"
   ]
  },
  {
   "cell_type": "markdown",
   "metadata": {},
   "source": [
    "## London"
   ]
  },
  {
   "cell_type": "code",
   "execution_count": 39,
   "metadata": {},
   "outputs": [],
   "source": [
    "ls_london = ['Islington',\n",
    "       'Fitzrovia', 'Elephants and Castle', 'Mayfair', 'Hoxton', 'Barbican',\n",
    "       'Farringdon', 'Clapton', 'Shoreditch', 'Marylebone', 'Saint Pancras',\n",
    "       'Crouch End']\n",
    "#average rental price per week\n",
    "london_rental = {'Islington': 704,\n",
    "       'Fitzrovia': 877, 'Elephants and Castle': 813, 'Mayfair': 1843, 'Hoxton': 870, 'Barbican': 1200,\n",
    "       'Farringdon': 515, 'Clapton': 420, 'Shoreditch': 810, 'Marylebone': 1133, 'Saint Pancras': 900,\n",
    "       'Crouch End': 435}\n"
   ]
  },
  {
   "cell_type": "code",
   "execution_count": 40,
   "metadata": {},
   "outputs": [],
   "source": [
    "london = [[samples['location'][:, i]] for i in range(9, 21)]\n",
    "# linear regression\n",
    "slope, intercept, r_val, p_val, se = stats.linregress([np.mean(each) for each in london],[london_rental[each] for each in ls_london])"
   ]
  },
  {
   "cell_type": "code",
   "execution_count": 41,
   "metadata": {},
   "outputs": [
    {
     "name": "stdout",
     "output_type": "stream",
     "text": [
      "r_value and p_value for london rental price and multiplier:  -0.05586112313573571 0.8630996268499319\n"
     ]
    }
   ],
   "source": [
    "print('r_value and p_value for london rental price and multiplier: ', r_val, p_val)"
   ]
  },
  {
   "cell_type": "code",
   "execution_count": null,
   "metadata": {},
   "outputs": [],
   "source": []
  }
 ],
 "metadata": {
  "kernelspec": {
   "display_name": "Python 3",
   "language": "python",
   "name": "python3"
  },
  "language_info": {
   "codemirror_mode": {
    "name": "ipython",
    "version": 3
   },
   "file_extension": ".py",
   "mimetype": "text/x-python",
   "name": "python",
   "nbconvert_exporter": "python",
   "pygments_lexer": "ipython3",
   "version": "3.6.8"
  }
 },
 "nbformat": 4,
 "nbformat_minor": 2
}
